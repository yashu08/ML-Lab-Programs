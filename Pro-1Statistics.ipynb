{
 "cells": [
  {
   "cell_type": "code",
   "execution_count": 1,
   "id": "f6c0ef76-71f8-4d71-90fa-60ed92efe863",
   "metadata": {},
   "outputs": [],
   "source": [
    "#progam 1 \n",
    "#using statistics library \n",
    "import statistics "
   ]
  },
  {
   "cell_type": "code",
   "execution_count": 2,
   "id": "6b62747f-76dc-459f-b86d-cc0d9f908885",
   "metadata": {},
   "outputs": [],
   "source": [
    "score = [90,67,98,69,76,45,78,89,90]"
   ]
  },
  {
   "cell_type": "code",
   "execution_count": 3,
   "id": "8ab016f6-b82e-4244-a632-e056dd958b5a",
   "metadata": {},
   "outputs": [
    {
     "name": "stdout",
     "output_type": "stream",
     "text": [
      "MEAN= 78\n",
      "MEDIAN= 78\n",
      "MODE= 90\n",
      "STDEV= 16.217274740226856\n"
     ]
    }
   ],
   "source": [
    "mean = statistics.mean(score)\n",
    "median = statistics.median(score)\n",
    "mode = statistics.mode(score)\n",
    "stdev = statistics.stdev(score)\n",
    "print('MEAN=',mean)\n",
    "print('MEDIAN=',median)\n",
    "print('MODE=',mode)\n",
    "print('STDEV=',stdev)"
   ]
  },
  {
   "cell_type": "code",
   "execution_count": 4,
   "id": "2886efc5-b50e-43ad-a123-a3ef40e4ea7f",
   "metadata": {},
   "outputs": [],
   "source": [
    "#using pandas libraray \n",
    "import pandas as pd \n"
   ]
  },
  {
   "cell_type": "code",
   "execution_count": 7,
   "id": "84be6628-5c1c-4a0a-9e31-17a5acef6b27",
   "metadata": {},
   "outputs": [],
   "source": [
    "df = pd.read_csv(\"C:/Users/yashaswini/Downloads/marks.csv\")"
   ]
  },
  {
   "cell_type": "code",
   "execution_count": 9,
   "id": "f24a9b5b-d633-4d13-b16f-69a791290150",
   "metadata": {},
   "outputs": [
    {
     "name": "stdout",
     "output_type": "stream",
     "text": [
      "MEAN= 559.5\n",
      "MEDIAN= 561.0\n",
      "MODE= 0    556\n",
      "1    587\n",
      "Name: Total Marks, dtype: int64\n",
      "STD= 40.87990541411106\n",
      "MAXIMUM= 617\n",
      "MINIMUM= 470\n"
     ]
    }
   ],
   "source": [
    "mean = df['Total Marks'].mean()\n",
    "median = df['Total Marks'].median()\n",
    "mode = df['Total Marks'].mode()\n",
    "stdevi = df['Total Marks'].std()\n",
    "maximum = df['Total Marks'].max()\n",
    "minimum = df['Total Marks'].min()\n",
    "\n",
    "print('MEAN=',mean)\n",
    "print('MEDIAN=',median)\n",
    "print('MODE=',mode)\n",
    "print('STD=',stdevi)\n",
    "print('MAXIMUM=',maximum)\n",
    "print('MINIMUM=',minimum)"
   ]
  },
  {
   "cell_type": "code",
   "execution_count": 14,
   "id": "9fde3068-b3d0-4d20-8f9f-09353decc96c",
   "metadata": {},
   "outputs": [],
   "source": [
    "#using numpy  \n",
    "import numpy as np\n"
   ]
  },
  {
   "cell_type": "code",
   "execution_count": 15,
   "id": "0bd66bd5-b222-4755-96bc-8cb50113c9bf",
   "metadata": {},
   "outputs": [],
   "source": [
    "score = [78,67,56,80,45,80,90,60]"
   ]
  },
  {
   "cell_type": "code",
   "execution_count": 16,
   "id": "2675fbf9-c523-4361-b87f-0de33c428a0d",
   "metadata": {},
   "outputs": [],
   "source": [
    "mean = np.mean(score)\n",
    "median = np.median(score)\n",
    "stdevi = np.std(score)\n",
    "max = np.max(score)\n",
    "min = np.min(score)"
   ]
  },
  {
   "cell_type": "code",
   "execution_count": 17,
   "id": "715b8fc2-794f-42ef-b760-0fa14077b17a",
   "metadata": {},
   "outputs": [
    {
     "name": "stdout",
     "output_type": "stream",
     "text": [
      "MEAN = 69.5\n",
      "MEDIAN = 72.5\n",
      "STD = 40.87990541411106\n",
      "MAXIMUM = 90\n",
      "MINIMUM = 45\n"
     ]
    }
   ],
   "source": [
    "print('MEAN =',mean)\n",
    "print('MEDIAN =',median)\n",
    "print('STD =',stdevi)\n",
    "print('MAXIMUM =',max)\n",
    "print('MINIMUM =',min)"
   ]
  },
  {
   "cell_type": "code",
   "execution_count": null,
   "id": "f01ad263-2d28-4df5-947c-e83f705c0c49",
   "metadata": {},
   "outputs": [],
   "source": []
  }
 ],
 "metadata": {
  "kernelspec": {
   "display_name": "Python 3 (ipykernel)",
   "language": "python",
   "name": "python3"
  },
  "language_info": {
   "codemirror_mode": {
    "name": "ipython",
    "version": 3
   },
   "file_extension": ".py",
   "mimetype": "text/x-python",
   "name": "python",
   "nbconvert_exporter": "python",
   "pygments_lexer": "ipython3",
   "version": "3.11.5"
  }
 },
 "nbformat": 4,
 "nbformat_minor": 5
}
