{
 "cells": [
  {
   "cell_type": "code",
   "execution_count": 1,
   "id": "46473ece-8bbf-4577-bd27-828353c14b3f",
   "metadata": {},
   "outputs": [],
   "source": [
    "import numpy as np\n",
    "import pandas as pd"
   ]
  },
  {
   "cell_type": "code",
   "execution_count": 2,
   "id": "5348cc79-ffe6-44a9-b352-c3fb773719ec",
   "metadata": {},
   "outputs": [],
   "source": [
    "data = pd.read_csv(\"C:/Users/yashaswini/Downloads/Social_Network_Ads (1).csv\")"
   ]
  },
  {
   "cell_type": "code",
   "execution_count": 3,
   "id": "2091f93d-9846-472d-85d5-ec00f2b88333",
   "metadata": {},
   "outputs": [],
   "source": [
    "X = data[['Age', 'EstimatedSalary']].values\n",
    "y = data['Purchased'].values\n"
   ]
  },
  {
   "cell_type": "code",
   "execution_count": 4,
   "id": "8fd46510-9bec-4a17-8317-824061328964",
   "metadata": {},
   "outputs": [],
   "source": [
    "def euclidean_distance(x1, x2):\n",
    "    return np.sqrt(np.sum((x1 - x2) ** 2))\n",
    "    "
   ]
  },
  {
   "cell_type": "code",
   "execution_count": 5,
   "id": "82e355c7-e768-475f-bb17-79f168b58995",
   "metadata": {},
   "outputs": [],
   "source": [
    "def knn_predict(X, y, new_data, k):\n",
    "    distances = []\n",
    "    for i in range(len(X)):\n",
    "        dist = euclidean_distance(X[i], new_data)\n",
    "        distances.append((dist, y[i]))\n",
    "    distances.sort(key=lambda x: x[0])\n",
    "\n",
    "    neighbors = distances[:k]\n",
    "    class_votes = {0: 0, 1: 0}\n",
    "    \n",
    "    for neighbor in neighbors:\n",
    "        class_label = neighbor[1]\n",
    "        class_votes[class_label] += 1\n",
    "    \n",
    "    return max(class_votes, key=class_votes.get)"
   ]
  },
  {
   "cell_type": "code",
   "execution_count": 6,
   "id": "744ae399-c16e-4172-a656-a56aacac4a33",
   "metadata": {},
   "outputs": [],
   "source": [
    "new_data = np.array([90, 60000])"
   ]
  },
  {
   "cell_type": "code",
   "execution_count": 7,
   "id": "2c75b12c-848a-47c5-872e-5c9604c5f153",
   "metadata": {},
   "outputs": [],
   "source": [
    "k =5"
   ]
  },
  {
   "cell_type": "code",
   "execution_count": 8,
   "id": "ec0a1539-086c-4782-8822-8f07d8bbf492",
   "metadata": {},
   "outputs": [],
   "source": [
    "prediction = knn_predict(X, y, new_data, k)"
   ]
  },
  {
   "cell_type": "code",
   "execution_count": 9,
   "id": "bbc7a4b7-873c-4e41-8de1-87bdbaa63d31",
   "metadata": {},
   "outputs": [
    {
     "name": "stdout",
     "output_type": "stream",
     "text": [
      "Predicted class: Not Purchased\n"
     ]
    }
   ],
   "source": [
    "if prediction == 0:\n",
    "    print(\"Predicted class: Not Purchased\")\n",
    "else:\n",
    "    print(\"Predicted class: Purchased\")\n"
   ]
  },
  {
   "cell_type": "code",
   "execution_count": null,
   "id": "188bbd34-2202-42bc-8964-0f6b15c8c62c",
   "metadata": {},
   "outputs": [],
   "source": []
  }
 ],
 "metadata": {
  "kernelspec": {
   "display_name": "Python 3 (ipykernel)",
   "language": "python",
   "name": "python3"
  },
  "language_info": {
   "codemirror_mode": {
    "name": "ipython",
    "version": 3
   },
   "file_extension": ".py",
   "mimetype": "text/x-python",
   "name": "python",
   "nbconvert_exporter": "python",
   "pygments_lexer": "ipython3",
   "version": "3.11.5"
  }
 },
 "nbformat": 4,
 "nbformat_minor": 5
}
